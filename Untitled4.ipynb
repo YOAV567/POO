{
  "nbformat": 4,
  "nbformat_minor": 0,
  "metadata": {
    "colab": {
      "provenance": [],
      "authorship_tag": "ABX9TyOnxWNR/NRaz/994Nfy3fau",
      "include_colab_link": true
    },
    "kernelspec": {
      "name": "python3",
      "display_name": "Python 3"
    },
    "language_info": {
      "name": "python"
    }
  },
  "cells": [
    {
      "cell_type": "markdown",
      "metadata": {
        "id": "view-in-github",
        "colab_type": "text"
      },
      "source": [
        "<a href=\"https://colab.research.google.com/github/YOAV567/POO/blob/main/Untitled4.ipynb\" target=\"_parent\"><img src=\"https://colab.research.google.com/assets/colab-badge.svg\" alt=\"Open In Colab\"/></a>"
      ]
    },
    {
      "cell_type": "code",
      "execution_count": 57,
      "metadata": {
        "colab": {
          "base_uri": "https://localhost:8080/"
        },
        "id": "qtkDBWpo807B",
        "outputId": "34ff382f-1c4c-41e3-f742-3cc602c559f4"
      },
      "outputs": [
        {
          "output_type": "stream",
          "name": "stdout",
          "text": [
            "dame el primer valor3\n",
            "dame el segundo valor4\n",
            "la suma de los valores es 7\n"
          ]
        }
      ],
      "source": [
        "class Operaciones:\n",
        "    def __init__(self,a,b):\n",
        "        self.a=a\n",
        "        self.b=b\n",
        "    def suma(self,v1,v2):\n",
        "      self.res=self.a+self.b\n",
        "      return self.res\n",
        "v1=int(input(\"dame el primer valor\"))\n",
        "v2=int(input(\"dame el segundo valor\"))\n",
        "obj=Operaciones(v1,v2)\n",
        "res=obj.suma(v1,v2)\n",
        "print(\"la suma de los valores es\",res)\n"
      ]
    }
  ]
}