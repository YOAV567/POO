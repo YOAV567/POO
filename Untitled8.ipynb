{
  "nbformat": 4,
  "nbformat_minor": 0,
  "metadata": {
    "colab": {
      "provenance": [],
      "authorship_tag": "ABX9TyOOXat8OoLXWKyRY9wC0ucg",
      "include_colab_link": true
    },
    "kernelspec": {
      "name": "python3",
      "display_name": "Python 3"
    },
    "language_info": {
      "name": "python"
    }
  },
  "cells": [
    {
      "cell_type": "markdown",
      "metadata": {
        "id": "view-in-github",
        "colab_type": "text"
      },
      "source": [
        "<a href=\"https://colab.research.google.com/github/YOAV567/POO/blob/main/Untitled8.ipynb\" target=\"_parent\"><img src=\"https://colab.research.google.com/assets/colab-badge.svg\" alt=\"Open In Colab\"/></a>"
      ]
    },
    {
      "cell_type": "code",
      "execution_count": null,
      "metadata": {
        "colab": {
          "base_uri": "https://localhost:8080/"
        },
        "id": "6UIqlnanuoRl",
        "outputId": "d0656d60-5589-4fb1-cdc5-0e019d21ae67"
      },
      "outputs": [
        {
          "output_type": "stream",
          "name": "stdout",
          "text": [
            "Dame tu nombre: Joan\n",
            "hola¡Cómo estas?Joan\n"
          ]
        }
      ],
      "source": [
        "class holamundo:\n",
        "  def __init__(self):\n",
        "    self.x=0\n",
        "    self.y=0\n",
        "\n",
        "  def a(self, v1):\n",
        "    r=\"hola\"\n",
        "    return(r)\n",
        "\n",
        "  def b1(self):\n",
        "    n =input(\"Dame tu nombre: \")\n",
        "    return (n)\n",
        "\n",
        "  def c(self,n,r):\n",
        "    print(\"\"+ r + \" ¡Cómo estas? \" +n)\n",
        "\n",
        "objt = holamundo(0,0)\n",
        "r=objt.a(0)\n",
        "n=objt.b1()\n",
        "objt.c(n,r)\n"
      ]
    },
    {
      "cell_type": "code",
      "source": [
        "x=holamundo()\n",
        "x.a(0)"
      ],
      "metadata": {
        "id": "bfxF_Veu3024"
      },
      "execution_count": null,
      "outputs": []
    }
  ]
}