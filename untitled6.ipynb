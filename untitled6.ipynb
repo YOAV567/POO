{
  "nbformat": 4,
  "nbformat_minor": 0,
  "metadata": {
    "colab": {
      "provenance": [],
      "authorship_tag": "ABX9TyNohx4M3FKPvXSX1XxM6UjK",
      "include_colab_link": true
    },
    "kernelspec": {
      "name": "python3",
      "display_name": "Python 3"
    },
    "language_info": {
      "name": "python"
    }
  },
  "cells": [
    {
      "cell_type": "markdown",
      "metadata": {
        "id": "view-in-github",
        "colab_type": "text"
      },
      "source": [
        "<a href=\"https://colab.research.google.com/github/YOAV567/POO/blob/main/untitled6.ipynb\" target=\"_parent\"><img src=\"https://colab.research.google.com/assets/colab-badge.svg\" alt=\"Open In Colab\"/></a>"
      ]
    },
    {
      "cell_type": "code",
      "execution_count": null,
      "metadata": {
        "id": "4QyDMKH7WYri"
      },
      "outputs": [],
      "source": [
        "class Figuras:\n",
        "    def _init_(self):\n",
        "        self.a = 0\n",
        "        self.b = 0\n",
        "        self.c = 0\n",
        "    def Op(self):\n",
        "        print(\"Elije una opccion de nuestro menu: \")\n",
        "        print(\"1.- Circulo\")\n",
        "        print(\"2.- Trapecio\")\n",
        "        print(\"3.- Rectangulo\")\n",
        "        r = int(input(\"Ingresa la opccion: \"))\n",
        "        return (r)\n",
        "    def Circulo(self,rad):\n",
        "        area = 3.14 * rad**2\n",
        "        return (area)\n",
        "\n",
        "    def Trapecio(self,b1,b2,h):\n",
        "        area = ((b1 + b2)*h)/2\n",
        "        return (area)\n",
        "\n",
        "    def Rectangulo(self,b,h):\n",
        "        area= b * h\n",
        "        return (area)\n",
        "\n",
        "obj = Figuras()\n",
        "s = obj.Op()\n",
        "if s==1:\n",
        "    obj.a = float(input(\"Escribe el radio: \"))\n",
        "    resultado = obj.Circulo(obj.a)\n",
        "    print(\"El area es de: \", resultado)\n",
        "elif(s==2):\n",
        "    obj.a = float(input(\"Escribe la base mayor: \"))\n",
        "    obj.b = float(input(\"Escribe la base menor: \"))\n",
        "    obj.c = float(input(\"Escribe la altura: \"))\n",
        "    resultado = obj.Trapecio(obj.a, obj.b, obj.c)\n",
        "    print(\"El area es de: \", resultado)\n",
        "elif(s==3):\n",
        "    obj.a=float(input(\"Escribe la base: \"))\n",
        "    obj.b=float(input(\"Escribe la altura: \"))\n",
        "    resultado=obj.Rectangulo(obj.a, obj.b)\n",
        "    print(\"El area es de: \", resultado)\n",
        "else:\n",
        "    print(\"Opccion no valida.\")\n",
        "#Si esta en la clase el self son  variables globales\n",
        "#Si estan fuera de las clases se estancian (obj)"
      ]
    },
    {
      "cell_type": "code",
      "source": [
        "class Areas:\n",
        "    def _init_(self, a, b, pi=3.14):\n",
        "        self.a = a\n",
        "        self.b = b\n",
        "        self.pi = pi\n",
        "\n",
        "    def Circulo(self):\n",
        "        self.result1 = (self.a * self.a) * self.pi\n",
        "        return self.result1\n",
        "\n",
        "    def Triangulo(self):\n",
        "        self.result2 = (self.a * self.b) / 2\n",
        "        return self.result2\n",
        "\n",
        "v1 = int(input(\"Dame la primera medida: \"))\n",
        "v2 = int(input(\"Dame la segunda medida: \"))\n",
        "obj = Areas(v1, v2)\n",
        "result2 = obj.Triangulo()\n",
        "print(\"El área del Triángulo es:\", result2)\n",
        "\n",
        "v1 = int(input(\"Dame el valor del radio: \"))\n",
        "obj = Areas(v1, v1)\n",
        "result1 = obj.Circulo()\n",
        "print(\"El área del Círculo es:\", result1)"
      ],
      "metadata": {
        "id": "gPubHUQqXjw1"
      },
      "execution_count": null,
      "outputs": []
    },
    {
      "cell_type": "code",
      "source": [],
      "metadata": {
        "id": "Xa5IhGT3XnJg"
      },
      "execution_count": null,
      "outputs": []
    },
    {
      "cell_type": "code",
      "source": [
        "class Operaciones:\n",
        "\n",
        "    def _init_(self):\n",
        "        self.a=0\n",
        "        self.b=0\n",
        "\n",
        "    def Suma(self,v1,v2):\n",
        "        self.result= self.a + self.b\n",
        "        return(self.result)\n",
        "\n",
        "v1 = int(input(\"Dame el primer valor: \"))\n",
        "v2 = int(input(\"Dame el segundo valor: \"))\n",
        "obj = Operaciones(v1,v2)\n",
        "result = obj.Suma(v1,v2)\n",
        "print(\"La suma de los valores es: \",result)"
      ],
      "metadata": {
        "id": "diQldrSCXs0C"
      },
      "execution_count": null,
      "outputs": []
    },
    {
      "cell_type": "code",
      "source": [
        "class Saludo:\n",
        "  def __init__(self):\n",
        "    self.nombre=\"Yoav Antonio\"\n",
        "\n",
        "  def sal(self):\n",
        "    print(\"Hola\",self.nombre)"
      ],
      "metadata": {
        "id": "V9N51ZbwWZk3"
      },
      "execution_count": null,
      "outputs": []
    }
  ]
}